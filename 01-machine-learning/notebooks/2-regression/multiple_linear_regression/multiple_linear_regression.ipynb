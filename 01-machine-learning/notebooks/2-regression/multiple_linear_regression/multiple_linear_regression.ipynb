{
 "cells": [
  {
   "cell_type": "markdown",
   "id": "16aa9cdd",
   "metadata": {},
   "source": []
  },
  {
   "cell_type": "markdown",
   "id": "0fe87429",
   "metadata": {},
   "source": [
    "## Pre-processing phase"
   ]
  },
  {
   "cell_type": "code",
   "execution_count": 5,
   "id": "d7eb8899",
   "metadata": {},
   "outputs": [],
   "source": [
    "import numpy as np\n",
    "import matplotlib.pyplot as plt\n",
    "import pandas as pd\n",
    "from sklearn.model_selection import train_test_split\n",
    "from sklearn.linear_model import LinearRegression"
   ]
  },
  {
   "cell_type": "code",
   "execution_count": 25,
   "id": "d1168dfc",
   "metadata": {},
   "outputs": [],
   "source": [
    "# Import dataset and define features and target variable\n",
    "dataset = pd.read_csv('50_Startups.csv')\n",
    "X = dataset.iloc[:,:-1]\n",
    "y = dataset.iloc[:,-1]"
   ]
  },
  {
   "cell_type": "code",
   "execution_count": 39,
   "id": "c1c3c53d",
   "metadata": {},
   "outputs": [
    {
     "name": "stdout",
     "output_type": "stream",
     "text": [
      "   R&D Spend  Administration  Marketing Spend  State_Florida  State_New York\n",
      "0  165349.20       136897.80        471784.10            0.0             1.0\n",
      "1  162597.70       151377.59        443898.53            0.0             0.0\n",
      "2  153441.51       101145.55        407934.54            1.0             0.0\n",
      "3  144372.41       118671.85        383199.62            0.0             1.0\n",
      "4  142107.34        91391.77        366168.42            1.0             0.0\n"
     ]
    }
   ],
   "source": [
    "# Dummy variables\n",
    "X = pd.get_dummies(X, prefix = \"State\", drop_first = True, dtype = float)\n",
    "print(X.head())"
   ]
  },
  {
   "cell_type": "code",
   "execution_count": 95,
   "id": "03e1efca",
   "metadata": {},
   "outputs": [
    {
     "name": "stdout",
     "output_type": "stream",
     "text": [
      "R&D Spend\n",
      "Statistics=0.967, p=0.180\n",
      "Normally distributed\n",
      "Administration\n",
      "Statistics=0.970, p=0.237\n",
      "Normally distributed\n"
     ]
    }
   ],
   "source": [
    "import test_normal_distribution as ndt\n",
    "\n",
    "ndt.test_normal_distribution(X,2)"
   ]
  },
  {
   "cell_type": "code",
   "execution_count": 35,
   "id": "ba91e862",
   "metadata": {},
   "outputs": [
    {
     "name": "stdout",
     "output_type": "stream",
     "text": [
      "    R&D Spend  Administration  Marketing Spend  State_Florida  State_New York\n",
      "0   165349.20       136897.80        471784.10            0.0             1.0\n",
      "40   28754.33       118546.05        172795.67            0.0             0.0\n",
      "12   93863.75       127320.38        249839.44            1.0             0.0\n",
      "29   65605.48       153032.06        107138.38            0.0             1.0\n",
      "8   120542.52       148718.95        311613.29            0.0             1.0\n"
     ]
    }
   ],
   "source": [
    "# Split dataset\n",
    "X_train, X_test, y_train, y_test = train_test_split(X,y, test_size = 0.1, random_state = 123)\n",
    "print(X_train.head())\n"
   ]
  },
  {
   "cell_type": "code",
   "execution_count": 38,
   "id": "2d54ab68",
   "metadata": {},
   "outputs": [
    {
     "name": "stdout",
     "output_type": "stream",
     "text": [
      "    R&D Spend  Administration  Marketing Spend  State_Florida  State_New York\n",
      "0    1.970229       136897.80        471784.10            0.0             1.0\n",
      "40  -0.980972       118546.05        172795.67            0.0             0.0\n",
      "12   0.425750       127320.38        249839.44            1.0             0.0\n",
      "29  -0.184784       153032.06        107138.38            0.0             1.0\n",
      "8    1.002158       148718.95        311613.29            0.0             1.0\n",
      "21   0.091420       153773.43        299737.29            0.0             1.0\n",
      "47  -1.602224       135426.92             0.00            0.0             0.0\n",
      "11   0.572844        91790.61        249744.55            0.0             0.0\n",
      "41  -0.999583        84710.77        164470.71            1.0             0.0\n",
      "5    1.247043        99814.71        362861.36            0.0             1.0\n",
      "1    1.910781       151377.59        443898.53            0.0             0.0\n",
      "6    1.306211       147198.87        127716.82            0.0             0.0\n",
      "27  -0.044303       127864.55        353183.81            0.0             1.0\n",
      "49  -1.602224       116983.80         45173.06            0.0             0.0\n",
      "24   0.062351        99281.34        140574.81            0.0             1.0\n",
      "31  -0.281342       152701.92         88218.23            0.0             1.0\n",
      "15   0.872116       122616.84        261776.23            0.0             1.0\n",
      "35  -0.608068        85047.44        205517.64            0.0             1.0\n",
      "26   0.025294       144135.98        134050.07            1.0             0.0\n",
      "7    1.212933       145530.06        323876.68            1.0             0.0\n",
      "20   0.045279       113867.30        298664.47            0.0             0.0\n",
      "48  -1.590512        51743.15             0.00            0.0             1.0\n",
      "3    1.517014       118671.85        383199.62            0.0             1.0\n",
      "23  -0.143150       105751.03        304768.73            1.0             0.0\n",
      "44  -1.123062       154806.14         28334.72            0.0             0.0\n",
      "4    1.468076        91391.77        366168.42            1.0             0.0\n",
      "16   0.083289       121597.55        264346.06            0.0             0.0\n",
      "36  -0.982929       127056.21        201126.82            1.0             0.0\n",
      "14   0.989210       156547.42        256512.92            1.0             0.0\n",
      "43  -1.267215       127382.30         35534.17            0.0             1.0\n",
      "25  -0.205110       139553.16        137962.62            0.0             0.0\n",
      "37  -0.650070        51283.14        197029.42            0.0             0.0\n",
      "39  -0.769148        82982.09        174999.30            0.0             0.0\n",
      "9    1.062488       108679.17        304981.62            0.0             0.0\n",
      "32  -0.232244       129219.61         46085.25            0.0             0.0\n",
      "33  -0.403249       103057.49        214634.81            1.0             0.0\n",
      "22  -0.003534       122782.75        303319.26            1.0             0.0\n",
      "42  -1.091450        96189.63        148001.11            0.0             0.0\n",
      "19   0.264917       153514.11             0.00            0.0             1.0\n",
      "17   0.442892       145077.58        282574.31            0.0             1.0\n",
      "38  -1.165153        65947.93        185265.10            0.0             1.0\n",
      "34  -0.599165       157693.92        210797.67            0.0             0.0\n",
      "28  -0.175148       182645.56        118148.20            1.0             0.0\n",
      "2    1.712957       101145.55        407934.54            1.0             0.0\n",
      "45  -1.580613       124153.04          1903.93            0.0             1.0\n"
     ]
    }
   ],
   "source": [
    "# Feature Scaling\n",
    "from sklearn.preprocessing import StandardScaler\n",
    "sc = StandardScaler()\n",
    "X_train[\"R&D Spend\"] = sc.fit_transform(X_train)\n",
    "print(X_train)\n",
    "#X_test = "
   ]
  }
 ],
 "metadata": {
  "kernelspec": {
   "display_name": "data_analysis",
   "language": "python",
   "name": "python3"
  },
  "language_info": {
   "codemirror_mode": {
    "name": "ipython",
    "version": 3
   },
   "file_extension": ".py",
   "mimetype": "text/x-python",
   "name": "python",
   "nbconvert_exporter": "python",
   "pygments_lexer": "ipython3",
   "version": "3.10.16"
  }
 },
 "nbformat": 4,
 "nbformat_minor": 5
}
