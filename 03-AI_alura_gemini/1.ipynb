{
 "cells": [
  {
   "cell_type": "markdown",
   "id": "09840558",
   "metadata": {},
   "source": [
    "# Libraries\n",
    "\n",
    "## *pip* commands\n",
    "pip install google-genai"
   ]
  },
  {
   "cell_type": "code",
   "execution_count": 5,
   "id": "5aa3108b",
   "metadata": {},
   "outputs": [],
   "source": [
    "import os"
   ]
  },
  {
   "cell_type": "markdown",
   "id": "70469b25",
   "metadata": {},
   "source": [
    "# API import"
   ]
  },
  {
   "cell_type": "code",
   "execution_count": null,
   "id": "9227ce65",
   "metadata": {},
   "outputs": [],
   "source": [
    "API_path = \"APIKEY.txt\"\n",
    "with open(API_path, \"r\") as file:\n",
    "    APIKEY = file.read()"
   ]
  }
 ],
 "metadata": {
  "kernelspec": {
   "display_name": "base",
   "language": "python",
   "name": "python3"
  },
  "language_info": {
   "codemirror_mode": {
    "name": "ipython",
    "version": 3
   },
   "file_extension": ".py",
   "mimetype": "text/x-python",
   "name": "python",
   "nbconvert_exporter": "python",
   "pygments_lexer": "ipython3",
   "version": "3.12.2"
  }
 },
 "nbformat": 4,
 "nbformat_minor": 5
}
